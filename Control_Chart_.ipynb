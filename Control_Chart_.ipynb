{
 "cells": [
  {
   "cell_type": "code",
   "execution_count": null,
   "id": "24742d73",
   "metadata": {},
   "outputs": [],
   "source": [
    "import pandas as pd \n",
    "import numpy as np \n",
    "import matplotlib.pyplot as plt\n",
    "import seaborn as sns\n",
    "import datetime as dt\n",
    "plt.style.use('seaborn-colorblind')\n",
    "import matplotlib.dates as mdates\n",
    "sns.set_theme(style=\"darkgrid\")"
   ]
  },
  {
   "cell_type": "code",
   "execution_count": null,
   "id": "25ec9300",
   "metadata": {},
   "outputs": [],
   "source": [
    "#Visualiza todas as linhas e colunas\n",
    "pd.set_option('display.max_columns', None)\n",
    "pd.set_option('display.max_rows', None)"
   ]
  },
  {
   "cell_type": "code",
   "execution_count": null,
   "id": "839e8b98",
   "metadata": {},
   "outputs": [],
   "source": [
    "#Seleciona linhas por ano\n",
    "values=[2021]\n",
    "df = df[df.ano.isin(values)]\n",
    "df.describe()"
   ]
  },
  {
   "cell_type": "code",
   "execution_count": null,
   "id": "391e2c07",
   "metadata": {},
   "outputs": [],
   "source": [
    "#Criação de colunas com mediana, desvio padrão e linhas de limite superior e inferior\n",
    "\n",
    "df[\"Mediana\"] = df['indicador'].median()\n",
    "df[\"DP\"] = df['indicador'].std()\n",
    "df[\"LSC1\"] = df[\"Mediana_UI\"] + df[\"DP\"]\n",
    "df[\"LIC1\"] = df[\"Mediana_UI\"] - df[\"DP\"]\n"
   ]
  },
  {
   "cell_type": "code",
   "execution_count": null,
   "id": "5761a7da",
   "metadata": {},
   "outputs": [],
   "source": [
    "#Função para ControlChart\n",
    "\n",
    "def controlchart (df,xtempo:str,yindicador: str, ymediana:str, ylsc:str, ylic:str, _ylab:str ):\n",
    "\n",
    "    ax = sns.lineplot(x= 'date', y=yindicador, data= df, marker=\"o\", color = 'black', legend= 'auto', label=str(_ylab))\n",
    "    sns.lineplot(x= 'date', y= ymediana, data= df,linestyle='--' , color = 'black', legend= 'auto', label=str('Mediana'))\n",
    "    sns.lineplot(y = df['Meta'], x=df['date'], color ='darkred' , linestyle='--',legend= 'auto', label=str('Meta'))\n",
    "    sns.lineplot(y = df[ylsc], x=df['date'], color ='teal' )\n",
    "    sns.lineplot(y = df[ylic], x=df['date'], color = 'teal',legend= 'auto', label=str('1º Limite') )\n",
    "\n",
    "    ax.set_title(f'Gráfico de Controle de Qualidade: {_ylab}', fontdict={'fontsize':20})\n",
    "    ax.set_xlabel('', fontdict={'fontsize':14})\n",
    "    ax.set_ylabel(_ylab, fontdict={'fontsize':14})\n",
    "    ax.legend(loc = 'center right', bbox_to_anchor = (1.35, 0.5),ncol=1).set_title('Legenda')\n",
    "\n",
    "    ax.set_xlim(df['date'].min(), df['date'].max()) \n",
    "    myFmt = mdates.DateFormatter('%b-%Y') \n",
    "    ax.xaxis.set_major_formatter(myFmt) \n",
    "    for item in ax.get_xticklabels(): \n",
    "        item.set_rotation(45)\n",
    "\n",
    "    for l in ax.lines:\n",
    "        y = l.get_ydata()\n",
    "        if len(y)>0:\n",
    "            ax.annotate(f'{y[-1]:.2f}', xy=(1,y[-1]), xycoords=('axes fraction', 'data'), \n",
    "                        ha='left', va='center', color=l.get_color())\n",
    "\n",
    "    fig = plt.gcf()\n",
    "    fig.set_size_inches(10, 5)\n",
    "\n",
    "    return "
   ]
  },
  {
   "cell_type": "code",
   "execution_count": null,
   "id": "a9b7580d",
   "metadata": {},
   "outputs": [],
   "source": [
    "#Chamando a função para plotar o grafico de controle\n",
    "controlchart(fb_uv,xtempo='',yindicador= '', \n",
    "             ymediana='', ylsc='', ylic='', _ylab='')"
   ]
  }
 ],
 "metadata": {
  "kernelspec": {
   "display_name": "Python 3 (ipykernel)",
   "language": "python",
   "name": "python3"
  },
  "language_info": {
   "codemirror_mode": {
    "name": "ipython",
    "version": 3
   },
   "file_extension": ".py",
   "mimetype": "text/x-python",
   "name": "python",
   "nbconvert_exporter": "python",
   "pygments_lexer": "ipython3",
   "version": "3.9.7"
  },
  "toc": {
   "base_numbering": 1,
   "nav_menu": {},
   "number_sections": true,
   "sideBar": true,
   "skip_h1_title": false,
   "title_cell": "Table of Contents",
   "title_sidebar": "Contents",
   "toc_cell": false,
   "toc_position": {},
   "toc_section_display": true,
   "toc_window_display": false
  },
  "varInspector": {
   "cols": {
    "lenName": 16,
    "lenType": 16,
    "lenVar": 40
   },
   "kernels_config": {
    "python": {
     "delete_cmd_postfix": "",
     "delete_cmd_prefix": "del ",
     "library": "var_list.py",
     "varRefreshCmd": "print(var_dic_list())"
    },
    "r": {
     "delete_cmd_postfix": ") ",
     "delete_cmd_prefix": "rm(",
     "library": "var_list.r",
     "varRefreshCmd": "cat(var_dic_list()) "
    }
   },
   "types_to_exclude": [
    "module",
    "function",
    "builtin_function_or_method",
    "instance",
    "_Feature"
   ],
   "window_display": false
  }
 },
 "nbformat": 4,
 "nbformat_minor": 5
}
