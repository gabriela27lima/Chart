{
 "cells": [
  {
   "cell_type": "code",
   "execution_count": 1,
   "id": "b04a2fc2",
   "metadata": {},
   "outputs": [],
   "source": [
    "import pandas as pd\n",
    "import matplotlib.pyplot as plt\n",
    "import numpy as np\n",
    "import seaborn as sns\n",
    "import matplotlib.ticker as ticker\n",
    "import matplotlib as mpl\n",
    "sns.set()\n",
    "import re\n",
    "import plotly.express as px"
   ]
  },
  {
   "cell_type": "code",
   "execution_count": 2,
   "id": "f9ef4dfb",
   "metadata": {},
   "outputs": [],
   "source": [
    "df = pd.read_excel(\"df1.xlsx\", sheet_name= 0)"
   ]
  },
  {
   "cell_type": "code",
   "execution_count": 6,
   "id": "444679a4",
   "metadata": {},
   "outputs": [],
   "source": [
    "def countplot(df, x_: str , title_:str , ylabel_: str):\n",
    "\n",
    "    large_to_small = df.groupby(x).size().sort_values().index[::-1]\n",
    "    csfont = {'fontname':'Calibri'} # title font\n",
    "\n",
    "    plt.figure(figsize=(12,6))\n",
    "    ax = sns.countplot(x= x_), data=df, palette = 'Set2', order=large_to_small)\n",
    "    plt.title( title_, fontsize=20, **csfont)\n",
    "    #plt.suptitle('Base TRR - Jan a Abril - 2022')\n",
    "    plt.xticks(rotation=30, color = \"black\", fontsize=10)\n",
    "    plt.yticks(color = \"black\", fontsize=10)\n",
    "\n",
    "    ax.set_ylabel( ylabel_, fontsize=12)\n",
    "    ax.set_xlabel('', fontsize=14)\n",
    "\n",
    "\n",
    "    ax.bar_label(ax.containers[0],size=10,label_type='edge', color= \"black\", bbox = dict(facecolor = 'silver', alpha =0.8))\n",
    "    ax.margins(y=0.1)\n",
    "\n",
    "    ax.spines['bottom'].set_linewidth(2.5)\n",
    "    for axis in ['top', 'right', 'left']:\n",
    "       ax.spines[axis].set_color(None)\n",
    "\n",
    "    plt.show()\n",
    "    \n",
    "    return\n"
   ]
  },
  {
   "cell_type": "code",
   "execution_count": null,
   "id": "e58b22e0",
   "metadata": {},
   "outputs": [],
   "source": []
  }
 ],
 "metadata": {
  "kernelspec": {
   "display_name": "Python 3 (ipykernel)",
   "language": "python",
   "name": "python3"
  },
  "language_info": {
   "codemirror_mode": {
    "name": "ipython",
    "version": 3
   },
   "file_extension": ".py",
   "mimetype": "text/x-python",
   "name": "python",
   "nbconvert_exporter": "python",
   "pygments_lexer": "ipython3",
   "version": "3.9.7"
  },
  "toc": {
   "base_numbering": 1,
   "nav_menu": {},
   "number_sections": true,
   "sideBar": true,
   "skip_h1_title": false,
   "title_cell": "Table of Contents",
   "title_sidebar": "Contents",
   "toc_cell": false,
   "toc_position": {},
   "toc_section_display": true,
   "toc_window_display": false
  },
  "varInspector": {
   "cols": {
    "lenName": 16,
    "lenType": 16,
    "lenVar": 40
   },
   "kernels_config": {
    "python": {
     "delete_cmd_postfix": "",
     "delete_cmd_prefix": "del ",
     "library": "var_list.py",
     "varRefreshCmd": "print(var_dic_list())"
    },
    "r": {
     "delete_cmd_postfix": ") ",
     "delete_cmd_prefix": "rm(",
     "library": "var_list.r",
     "varRefreshCmd": "cat(var_dic_list()) "
    }
   },
   "types_to_exclude": [
    "module",
    "function",
    "builtin_function_or_method",
    "instance",
    "_Feature"
   ],
   "window_display": false
  }
 },
 "nbformat": 4,
 "nbformat_minor": 5
}
